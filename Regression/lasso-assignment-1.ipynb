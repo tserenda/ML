{
 "cells": [
  {
   "cell_type": "markdown",
   "metadata": {},
   "source": [
    "# Regression Week 5: Feature Selection and LASSO (Interpretation)"
   ]
  },
  {
   "cell_type": "markdown",
   "metadata": {},
   "source": [
    "In this notebook, you will use LASSO to select features, building on a pre-implemented solver for LASSO (using GraphLab Create, though you can use other solvers). You will:\n",
    "* Run LASSO with different L1 penalties.\n",
    "* Choose best L1 penalty using a validation set.\n",
    "* Choose best L1 penalty using a validation set, with additional constraint on the size of subset.\n",
    "\n",
    "In the second notebook, you will implement your own LASSO solver, using coordinate descent. "
   ]
  },
  {
   "cell_type": "markdown",
   "metadata": {},
   "source": [
    "# Fire up graphlab create"
   ]
  },
  {
   "cell_type": "code",
   "execution_count": 276,
   "metadata": {
    "collapsed": false
   },
   "outputs": [],
   "source": [
    "import graphlab"
   ]
  },
  {
   "cell_type": "markdown",
   "metadata": {},
   "source": [
    "# Load in house sales data\n",
    "\n",
    "Dataset is from house sales in King County, the region where the city of Seattle, WA is located."
   ]
  },
  {
   "cell_type": "code",
   "execution_count": 277,
   "metadata": {
    "collapsed": false,
    "scrolled": true
   },
   "outputs": [],
   "source": [
    "sales = graphlab.SFrame('kc_house_data.gl/')"
   ]
  },
  {
   "cell_type": "markdown",
   "metadata": {},
   "source": [
    "# Create new features"
   ]
  },
  {
   "cell_type": "markdown",
   "metadata": {},
   "source": [
    "As in Week 2, we consider features that are some transformations of inputs."
   ]
  },
  {
   "cell_type": "code",
   "execution_count": 278,
   "metadata": {
    "collapsed": true
   },
   "outputs": [],
   "source": [
    "from math import log, sqrt\n",
    "sales['sqft_living_sqrt'] = sales['sqft_living'].apply(sqrt)\n",
    "sales['sqft_lot_sqrt'] = sales['sqft_lot'].apply(sqrt)\n",
    "sales['bedrooms_square'] = sales['bedrooms']*sales['bedrooms']\n",
    "\n",
    "# In the dataset, 'floors' was defined with type string, \n",
    "# so we'll convert them to float, before creating a new feature.\n",
    "sales['floors'] = sales['floors'].astype(float) \n",
    "sales['floors_square'] = sales['floors']*sales['floors']"
   ]
  },
  {
   "cell_type": "markdown",
   "metadata": {},
   "source": [
    "* Squaring bedrooms will increase the separation between not many bedrooms (e.g. 1) and lots of bedrooms (e.g. 4) since 1^2 = 1 but 4^2 = 16. Consequently this variable will mostly affect houses with many bedrooms.\n",
    "* On the other hand, taking square root of sqft_living will decrease the separation between big house and small house. The owner may not be exactly twice as happy for getting a house that is twice as big."
   ]
  },
  {
   "cell_type": "markdown",
   "metadata": {},
   "source": [
    "# Learn regression weights with L1 penalty"
   ]
  },
  {
   "cell_type": "markdown",
   "metadata": {},
   "source": [
    "Let us fit a model with all the features available, plus the features we just created above."
   ]
  },
  {
   "cell_type": "code",
   "execution_count": 279,
   "metadata": {
    "collapsed": false
   },
   "outputs": [],
   "source": [
    "all_features = ['bedrooms', 'bedrooms_square',\n",
    "            'bathrooms',\n",
    "            'sqft_living', 'sqft_living_sqrt',\n",
    "            'sqft_lot', 'sqft_lot_sqrt',\n",
    "            'floors', 'floors_square',\n",
    "            'waterfront', 'view', 'condition', 'grade',\n",
    "            'sqft_above',\n",
    "            'sqft_basement',\n",
    "            'yr_built', 'yr_renovated']"
   ]
  },
  {
   "cell_type": "markdown",
   "metadata": {},
   "source": [
    "Applying L1 penalty requires adding an extra parameter (`l1_penalty`) to the linear regression call in GraphLab Create. (Other tools may have separate implementations of LASSO.)  Note that it's important to set `l2_penalty=0` to ensure we don't introduce an additional L2 penalty."
   ]
  },
  {
   "cell_type": "code",
   "execution_count": 280,
   "metadata": {
    "collapsed": false
   },
   "outputs": [],
   "source": [
    "model_all = graphlab.linear_regression.create(sales, target='price', features=all_features,\n",
    "                                              validation_set=None, \n",
    "                                              l2_penalty=0., l1_penalty=1e10, verbose = False)"
   ]
  },
  {
   "cell_type": "markdown",
   "metadata": {},
   "source": [
    "Find what features had non-zero weight."
   ]
  },
  {
   "cell_type": "code",
   "execution_count": 282,
   "metadata": {
    "collapsed": false
   },
   "outputs": [
    {
     "name": "stdout",
     "output_type": "stream",
     "text": [
      "+------------------+-------+---------------+\n",
      "|       name       | index |     value     |\n",
      "+------------------+-------+---------------+\n",
      "|   (intercept)    |  None |  274873.05595 |\n",
      "|     bedrooms     |  None |      0.0      |\n",
      "| bedrooms_square  |  None |      0.0      |\n",
      "|    bathrooms     |  None | 8468.53108691 |\n",
      "|   sqft_living    |  None | 24.4207209824 |\n",
      "| sqft_living_sqrt |  None | 350.060553386 |\n",
      "|     sqft_lot     |  None |      0.0      |\n",
      "|  sqft_lot_sqrt   |  None |      0.0      |\n",
      "|      floors      |  None |      0.0      |\n",
      "|  floors_square   |  None |      0.0      |\n",
      "|    waterfront    |  None |      0.0      |\n",
      "|       view       |  None |      0.0      |\n",
      "|    condition     |  None |      0.0      |\n",
      "|      grade       |  None | 842.068034898 |\n",
      "|    sqft_above    |  None | 20.0247224171 |\n",
      "|  sqft_basement   |  None |      0.0      |\n",
      "|     yr_built     |  None |      0.0      |\n",
      "|   yr_renovated   |  None |      0.0      |\n",
      "+------------------+-------+---------------+\n",
      "[18 rows x 3 columns]\n",
      "\n"
     ]
    }
   ],
   "source": [
    "model_all.get(\"coefficients\").print_rows(18)"
   ]
  },
  {
   "cell_type": "markdown",
   "metadata": {},
   "source": [
    "Note that a majority of the weights have been set to zero. So by setting an L1 penalty that's large enough, we are performing a subset selection. \n",
    "\n",
    "***QUIZ QUESTION***:\n",
    "According to this list of weights, which of the features have been chosen? "
   ]
  },
  {
   "cell_type": "markdown",
   "metadata": {},
   "source": [
    "# Selecting an L1 penalty"
   ]
  },
  {
   "cell_type": "markdown",
   "metadata": {},
   "source": [
    "To find a good L1 penalty, we will explore multiple values using a validation set. Let us do three way split into train, validation, and test sets:\n",
    "* Split our sales data into 2 sets: training and test\n",
    "* Further split our training data into two sets: train, validation\n",
    "\n",
    "Be *very* careful that you use seed = 1 to ensure you get the same answer!"
   ]
  },
  {
   "cell_type": "code",
   "execution_count": 283,
   "metadata": {
    "collapsed": true
   },
   "outputs": [],
   "source": [
    "(training_and_validation, testing) = sales.random_split(.9,seed=1) # initial train/test split\n",
    "(training, validation) = training_and_validation.random_split(0.5, seed=1) # split training into train and validate"
   ]
  },
  {
   "cell_type": "markdown",
   "metadata": {},
   "source": [
    "Next, we write a loop that does the following:\n",
    "* For `l1_penalty` in [10^1, 10^1.5, 10^2, 10^2.5, ..., 10^7] (to get this in Python, type `np.logspace(1, 7, num=13)`.)\n",
    "    * Fit a regression model with a given `l1_penalty` on TRAIN data. Specify `l1_penalty=l1_penalty` and `l2_penalty=0.` in the parameter list.\n",
    "    * Compute the RSS on VALIDATION data (here you will want to use `.predict()`) for that `l1_penalty`\n",
    "* Report which `l1_penalty` produced the lowest RSS on validation data.\n",
    "\n",
    "When you call `linear_regression.create()` make sure you set `validation_set = None`.\n",
    "\n",
    "Note: you can turn off the print out of `linear_regression.create()` with `verbose = False`"
   ]
  },
  {
   "cell_type": "code",
   "execution_count": 284,
   "metadata": {
    "collapsed": false
   },
   "outputs": [],
   "source": [
    "import numpy as np\n",
    "rss = {}\n",
    "model = {}\n",
    "penalties = np.logspace(1, 7, num = 13)\n",
    "for l1_penalty in penalties:\n",
    "    model[l1_penalty] = graphlab.linear_regression.create(training, target = 'price', features = all_features,\n",
    "                l1_penalty = l1_penalty, l2_penalty = 0, validation_set = None, verbose = False)\n",
    "    rss[l1_penalty] = ((validation['price'] - model[l1_penalty].predict(validation)) ** 2).sum()"
   ]
  },
  {
   "cell_type": "markdown",
   "metadata": {},
   "source": [
    "*** QUIZ QUESTIONS ***\n",
    "1. What was the best value for the `l1_penalty`?\n",
    "2. What is the RSS on TEST data of the model with the best `l1_penalty`?"
   ]
  },
  {
   "cell_type": "code",
   "execution_count": 287,
   "metadata": {
    "collapsed": false
   },
   "outputs": [
    {
     "name": "stdout",
     "output_type": "stream",
     "text": [
      "Penalties:\n",
      "[  1.00000000e+01   3.16227766e+01   1.00000000e+02   3.16227766e+02\n",
      "   1.00000000e+03   3.16227766e+03   1.00000000e+04   3.16227766e+04\n",
      "   1.00000000e+05   3.16227766e+05   1.00000000e+06   3.16227766e+06\n",
      "   1.00000000e+07]\n",
      "10.0\n"
     ]
    }
   ],
   "source": [
    "print \"Penalties:\\n\", penalties\n",
    "best_penalty = min(rss, key = rss.get)\n",
    "print best_penalty"
   ]
  },
  {
   "cell_type": "code",
   "execution_count": 288,
   "metadata": {
    "collapsed": false
   },
   "outputs": [
    {
     "name": "stdout",
     "output_type": "stream",
     "text": [
      "1.56983602382e+14\n"
     ]
    }
   ],
   "source": [
    "best_rss = ((testing['price'] - model[best_penalty].predict(testing)) ** 2).sum()\n",
    "print best_rss"
   ]
  },
  {
   "cell_type": "markdown",
   "metadata": {},
   "source": [
    "***QUIZ QUESTION***\n",
    "Also, using this value of L1 penalty, how many nonzero weights do you have?"
   ]
  },
  {
   "cell_type": "code",
   "execution_count": 289,
   "metadata": {
    "collapsed": false
   },
   "outputs": [
    {
     "name": "stdout",
     "output_type": "stream",
     "text": [
      "18\n"
     ]
    }
   ],
   "source": [
    "print model[best_penalty][\"coefficients\"]['value'].nnz()"
   ]
  },
  {
   "cell_type": "markdown",
   "metadata": {},
   "source": [
    "# Limit the number of nonzero weights\n",
    "\n",
    "What if we absolutely wanted to limit ourselves to, say, 7 features? This may be important if we want to derive \"a rule of thumb\" --- an interpretable model that has only a few features in them."
   ]
  },
  {
   "cell_type": "markdown",
   "metadata": {},
   "source": [
    "In this section, you are going to implement a simple, two phase procedure to achive this goal:\n",
    "1. Explore a large range of `l1_penalty` values to find a narrow region of `l1_penalty` values where models are likely to have the desired number of non-zero weights.\n",
    "2. Further explore the narrow region you found to find a good value for `l1_penalty` that achieves the desired sparsity.  Here, we will again use a validation set to choose the best value for `l1_penalty`."
   ]
  },
  {
   "cell_type": "code",
   "execution_count": 290,
   "metadata": {
    "collapsed": true
   },
   "outputs": [],
   "source": [
    "max_nonzeros = 7"
   ]
  },
  {
   "cell_type": "markdown",
   "metadata": {},
   "source": [
    "## Exploring the larger range of values to find a narrow range with the desired sparsity\n",
    "\n",
    "Let's define a wide range of possible `l1_penalty_values`:"
   ]
  },
  {
   "cell_type": "code",
   "execution_count": 291,
   "metadata": {
    "collapsed": false
   },
   "outputs": [],
   "source": [
    "l1_penalty_values = np.logspace(8, 10, num = 20)"
   ]
  },
  {
   "cell_type": "markdown",
   "metadata": {},
   "source": [
    "Now, implement a loop that search through this space of possible `l1_penalty` values:\n",
    "\n",
    "* For `l1_penalty` in `np.logspace(8, 10, num=20)`:\n",
    "    * Fit a regression model with a given `l1_penalty` on TRAIN data. Specify `l1_penalty=l1_penalty` and `l2_penalty=0.` in the parameter list. When you call `linear_regression.create()` make sure you set `validation_set = None`\n",
    "    * Extract the weights of the model and count the number of nonzeros. Save the number of nonzeros to a list.\n",
    "        * *Hint: `model['coefficients']['value']` gives you an SArray with the parameters you learned.  If you call the method `.nnz()` on it, you will find the number of non-zero parameters!* "
   ]
  },
  {
   "cell_type": "code",
   "execution_count": 292,
   "metadata": {
    "collapsed": false
   },
   "outputs": [],
   "source": [
    "nonzeros = [] # empty list to hold numbers of nonzeros\n",
    "for l1_penalty in l1_penalty_values:\n",
    "    model = graphlab.linear_regression.create(training, target = 'price', features = all_features,\n",
    "                        l1_penalty = l1_penalty, l2_penalty = 0, validation_set = None, verbose = False)\n",
    "    nonzeros.append(model['coefficients']['value'].nnz())"
   ]
  },
  {
   "cell_type": "code",
   "execution_count": 293,
   "metadata": {
    "collapsed": false
   },
   "outputs": [
    {
     "name": "stdout",
     "output_type": "stream",
     "text": [
      "[18, 18, 18, 18, 17, 17, 17, 17, 17, 16, 15, 15, 13, 12, 10, 6, 5, 3, 1, 1]\n",
      "[  1.00000000e+08   1.27427499e+08   1.62377674e+08   2.06913808e+08\n",
      "   2.63665090e+08   3.35981829e+08   4.28133240e+08   5.45559478e+08\n",
      "   6.95192796e+08   8.85866790e+08   1.12883789e+09   1.43844989e+09\n",
      "   1.83298071e+09   2.33572147e+09   2.97635144e+09   3.79269019e+09\n",
      "   4.83293024e+09   6.15848211e+09   7.84759970e+09   1.00000000e+10]\n"
     ]
    }
   ],
   "source": [
    "n = len(nonzeros)\n",
    "print nonzeros\n",
    "print l1_penalty_values"
   ]
  },
  {
   "cell_type": "markdown",
   "metadata": {},
   "source": [
    "Out of this large range, we want to find the two ends of our desired narrow range of `l1_penalty`.  At one end, we will have `l1_penalty` values that have too few non-zeros, and at the other end, we will have an `l1_penalty` that has too many non-zeros.  \n",
    "\n",
    "More formally, find:\n",
    "* The largest `l1_penalty` that has more non-zeros than `max_nonzero` (if we pick a penalty smaller than this value, we will definitely have too many non-zero weights)\n",
    "    * Store this value in the variable `l1_penalty_min` (we will use it later)\n",
    "* The smallest `l1_penalty` that has fewer non-zeros than `max_nonzero` (if we pick a penalty larger than this value, we will definitely have too few non-zero weights)\n",
    "    * Store this value in the variable `l1_penalty_max` (we will use it later)\n",
    "\n",
    "\n",
    "*Hint: there are many ways to do this, e.g.:*\n",
    "* Programmatically within the loop above\n",
    "\n",
    "* Creating a list with the number of non-zeros for each value of `l1_penalty` and inspecting it to find the appropriate boundaries."
   ]
  },
  {
   "cell_type": "code",
   "execution_count": 294,
   "metadata": {
    "collapsed": false
   },
   "outputs": [],
   "source": [
    "nonzeros = sorted(nonzeros)\n",
    "for i in range(0, n):\n",
    "    if (nonzeros[i] > max_nonzeros):\n",
    "        l1_penalty_min = l1_penalty_values[n-(i+1)]\n",
    "        break"
   ]
  },
  {
   "cell_type": "code",
   "execution_count": 295,
   "metadata": {
    "collapsed": false
   },
   "outputs": [],
   "source": [
    "nonzeros = sorted(nonzeros, reverse = True)\n",
    "for i in range(0, n):\n",
    "    if (nonzeros[i] < max_nonzeros):\n",
    "        l1_penalty_max = l1_penalty_values[i]\n",
    "        break"
   ]
  },
  {
   "cell_type": "markdown",
   "metadata": {},
   "source": [
    "***QUIZ QUESTIONS***\n",
    "\n",
    "What values did you find for `l1_penalty_min` and`l1_penalty_max`? "
   ]
  },
  {
   "cell_type": "code",
   "execution_count": 296,
   "metadata": {
    "collapsed": false
   },
   "outputs": [
    {
     "name": "stdout",
     "output_type": "stream",
     "text": [
      "l1_penalty_min:  2976351441.63\n",
      "l1_penalty_max:  3792690190.73\n"
     ]
    }
   ],
   "source": [
    "print \"l1_penalty_min: \", l1_penalty_min\n",
    "print \"l1_penalty_max: \", l1_penalty_max"
   ]
  },
  {
   "cell_type": "markdown",
   "metadata": {},
   "source": [
    "## Exploring the narrow range of values to find the solution with the right number of non-zeros that has lowest RSS on the validation set \n",
    "\n",
    "We will now explore the narrow region of `l1_penalty` values we found:"
   ]
  },
  {
   "cell_type": "code",
   "execution_count": 297,
   "metadata": {
    "collapsed": false
   },
   "outputs": [
    {
     "name": "stdout",
     "output_type": "stream",
     "text": [
      "[  2.97635144e+09   3.01931664e+09   3.06228184e+09   3.10524703e+09\n",
      "   3.14821223e+09   3.19117743e+09   3.23414263e+09   3.27710782e+09\n",
      "   3.32007302e+09   3.36303822e+09   3.40600341e+09   3.44896861e+09\n",
      "   3.49193381e+09   3.53489901e+09   3.57786420e+09   3.62082940e+09\n",
      "   3.66379460e+09   3.70675980e+09   3.74972499e+09   3.79269019e+09]\n"
     ]
    }
   ],
   "source": [
    "l1_penalty_values = np.linspace(l1_penalty_min,l1_penalty_max,20)\n",
    "print l1_penalty_values"
   ]
  },
  {
   "cell_type": "markdown",
   "metadata": {},
   "source": [
    "* For `l1_penalty` in `np.linspace(l1_penalty_min,l1_penalty_max,20)`:\n",
    "    * Fit a regression model with a given `l1_penalty` on TRAIN data. Specify `l1_penalty=l1_penalty` and `l2_penalty=0.` in the parameter list. When you call `linear_regression.create()` make sure you set `validation_set = None`\n",
    "    * Measure the RSS of the learned model on the VALIDATION set\n",
    "\n",
    "Find the model that the lowest RSS on the VALIDATION set and has sparsity *equal* to `max_nonzero`."
   ]
  },
  {
   "cell_type": "code",
   "execution_count": 298,
   "metadata": {
    "collapsed": false
   },
   "outputs": [],
   "source": [
    "rss = {}\n",
    "model = {}\n",
    "for l1_penalty in l1_penalty_values:\n",
    "    model[l1_penalty] = graphlab.linear_regression.create(training, target = 'price', features = all_features,\n",
    "                l1_penalty = l1_penalty, l2_penalty = 0, validation_set = None, verbose = False)\n",
    "    rss[l1_penalty] = ((validation['price'] - model[l1_penalty].predict(validation)) ** 2).sum()"
   ]
  },
  {
   "cell_type": "code",
   "execution_count": 299,
   "metadata": {
    "collapsed": false
   },
   "outputs": [],
   "source": [
    "lowest_rss = max(rss.values())\n",
    "best_penalty = 0"
   ]
  },
  {
   "cell_type": "code",
   "execution_count": 300,
   "metadata": {
    "collapsed": false
   },
   "outputs": [],
   "source": [
    "for l1_penalty in l1_penalty_values:\n",
    "    numOfNonZero = model[l1_penalty]['coefficients']['value'].nnz()\n",
    "    RSS = rss[l1_penalty]\n",
    "    if (numOfNonZero == max_nonzeros and RSS < lowest_rss):\n",
    "        lowest_rss = RSS\n",
    "        best_penalty = l1_penalty"
   ]
  },
  {
   "cell_type": "markdown",
   "metadata": {},
   "source": [
    "***QUIZ QUESTIONS***\n",
    "1. What value of `l1_penalty` in our narrow range has the lowest RSS on the VALIDATION set and has sparsity *equal* to `max_nonzeros`?\n",
    "2. What features in this model have non-zero coefficients?"
   ]
  },
  {
   "cell_type": "code",
   "execution_count": 301,
   "metadata": {
    "collapsed": false
   },
   "outputs": [
    {
     "name": "stdout",
     "output_type": "stream",
     "text": [
      "best_penalty:  3448968612.16\n",
      "lowest RSS:  1.04693748875e+15\n"
     ]
    }
   ],
   "source": [
    "print \"best_penalty: \", best_penalty\n",
    "print \"lowest RSS: \", lowest_rss"
   ]
  },
  {
   "cell_type": "code",
   "execution_count": 302,
   "metadata": {
    "collapsed": false
   },
   "outputs": [
    {
     "name": "stdout",
     "output_type": "stream",
     "text": [
      "+------------------+-------+---------------+\n",
      "|       name       | index |     value     |\n",
      "+------------------+-------+---------------+\n",
      "|   (intercept)    |  None | 222253.192544 |\n",
      "|     bedrooms     |  None | 661.722717782 |\n",
      "| bedrooms_square  |  None |      0.0      |\n",
      "|    bathrooms     |  None | 15873.9572593 |\n",
      "|   sqft_living    |  None | 32.4102214513 |\n",
      "| sqft_living_sqrt |  None | 690.114773313 |\n",
      "|     sqft_lot     |  None |      0.0      |\n",
      "|  sqft_lot_sqrt   |  None |      0.0      |\n",
      "|      floors      |  None |      0.0      |\n",
      "|  floors_square   |  None |      0.0      |\n",
      "|    waterfront    |  None |      0.0      |\n",
      "|       view       |  None |      0.0      |\n",
      "|    condition     |  None |      0.0      |\n",
      "|      grade       |  None | 2899.42026975 |\n",
      "|    sqft_above    |  None | 30.0115753022 |\n",
      "|  sqft_basement   |  None |      0.0      |\n",
      "|     yr_built     |  None |      0.0      |\n",
      "|   yr_renovated   |  None |      0.0      |\n",
      "+------------------+-------+---------------+\n",
      "[18 rows x 3 columns]\n",
      "\n"
     ]
    }
   ],
   "source": [
    "model[best_penalty].get(\"coefficients\").print_rows(18)"
   ]
  }
 ],
 "metadata": {
  "kernelspec": {
   "display_name": "Python 2",
   "language": "python",
   "name": "python2"
  },
  "language_info": {
   "codemirror_mode": {
    "name": "ipython",
    "version": 2
   },
   "file_extension": ".py",
   "mimetype": "text/x-python",
   "name": "python",
   "nbconvert_exporter": "python",
   "pygments_lexer": "ipython2",
   "version": "2.7.10"
  }
 },
 "nbformat": 4,
 "nbformat_minor": 0
}
